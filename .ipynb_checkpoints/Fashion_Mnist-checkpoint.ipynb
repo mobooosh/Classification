{
 "cells": [
  {
   "cell_type": "code",
   "execution_count": 2,
   "id": "aa97788b-9615-43a7-89c6-9a002e43df9f",
   "metadata": {},
   "outputs": [],
   "source": [
    "from tensorflow import keras\n",
    "import tensorflow as tf\n",
    "from keras.models import Sequential\n",
    "from keras import layers\n",
    "from keras import optimizers\n",
    "from keras.layers import Dense, Flatten, Dropout\n",
    "from keras.layers import Conv2D, MaxPooling2D\n",
    "from keras.datasets import fashion_mnist\n",
    "import numpy as np\n",
    "import matplotlib.pyplot as plt"
   ]
  },
  {
   "cell_type": "code",
   "execution_count": 3,
   "id": "c0a6ad6a-820c-453c-9c47-77a7f5008ab8",
   "metadata": {},
   "outputs": [
    {
     "name": "stdout",
     "output_type": "stream",
     "text": [
      "Downloading data from https://storage.googleapis.com/tensorflow/tf-keras-datasets/train-labels-idx1-ubyte.gz\n",
      "29515/29515 [==============================] - 0s 0us/step\n",
      "Downloading data from https://storage.googleapis.com/tensorflow/tf-keras-datasets/train-images-idx3-ubyte.gz\n",
      "26421880/26421880 [==============================] - 18s 1us/step\n",
      "Downloading data from https://storage.googleapis.com/tensorflow/tf-keras-datasets/t10k-labels-idx1-ubyte.gz\n",
      "5148/5148 [==============================] - 0s 0us/step\n",
      "Downloading data from https://storage.googleapis.com/tensorflow/tf-keras-datasets/t10k-images-idx3-ubyte.gz\n",
      "4422102/4422102 [==============================] - 3s 1us/step\n"
     ]
    }
   ],
   "source": [
    "fashion_mnist = keras.datasets.fashion_mnist\n",
    "(train_images, train_labels), (test_images, test_labels) = fashion_mnist.load_data()"
   ]
  },
  {
   "cell_type": "code",
   "execution_count": 4,
   "id": "7a75efdf-f6bb-47aa-ac9f-6318b5c22df3",
   "metadata": {},
   "outputs": [
    {
     "data": {
      "text/plain": [
       "(60000, 28, 28)"
      ]
     },
     "execution_count": 4,
     "metadata": {},
     "output_type": "execute_result"
    }
   ],
   "source": [
    "train_images.shape"
   ]
  },
  {
   "cell_type": "code",
   "execution_count": 5,
   "id": "1693ccb6-68a4-4742-8f7b-8f2ad4661686",
   "metadata": {},
   "outputs": [
    {
     "name": "stderr",
     "output_type": "stream",
     "text": [
      "2024-07-17 02:59:42.205914: E external/local_xla/xla/stream_executor/cuda/cuda_driver.cc:274] failed call to cuInit: CUDA_ERROR_NO_DEVICE: no CUDA-capable device is detected\n"
     ]
    }
   ],
   "source": [
    "model = keras.Sequential()\n",
    "model.add(layers.Conv2D(32, (3, 3), activation='relu', input_shape=(28,28,1)))\n",
    "model.add(layers.MaxPooling2D((2, 2)))\n",
    "model.add(layers.Conv2D(64, (3, 3), activation='relu'))\n",
    "model.add(layers.MaxPooling2D((2, 2)))\n",
    "model.add(layers.Conv2D(64, (3, 3), activation='relu'))\n",
    "model.add(layers.MaxPooling2D((2, 2)))\n",
    "model.add(layers.Dropout(0.3))\n",
    "model.add(layers.Flatten())\n",
    "model.add(layers.Dense(10, activation='softmax'))"
   ]
  },
  {
   "cell_type": "code",
   "execution_count": 6,
   "id": "7c140439-0951-478c-9311-05e1350336f1",
   "metadata": {},
   "outputs": [],
   "source": [
    "opt_rms = tf.keras.optimizers.legacy.Adam(learning_rate=0.001, decay=1e-6)"
   ]
  },
  {
   "cell_type": "code",
   "execution_count": 7,
   "id": "873128cb-186e-4ab9-aef3-8fb3653fae18",
   "metadata": {},
   "outputs": [],
   "source": [
    "model.compile(optimizer=opt_rms,\n",
    "              loss='sparse_categorical_crossentropy',\n",
    "              metrics=['accuracy'])"
   ]
  },
  {
   "cell_type": "code",
   "execution_count": 8,
   "id": "40e6167f-635d-4fc8-af47-1be1ee0efb28",
   "metadata": {},
   "outputs": [
    {
     "name": "stdout",
     "output_type": "stream",
     "text": [
      "Epoch 1/25\n",
      "938/938 [==============================] - 7s 7ms/step - loss: 0.8621 - accuracy: 0.7357 - val_loss: 0.5088 - val_accuracy: 0.8163\n",
      "Epoch 2/25\n",
      "938/938 [==============================] - 7s 7ms/step - loss: 0.5172 - accuracy: 0.8141 - val_loss: 0.4556 - val_accuracy: 0.8343\n",
      "Epoch 3/25\n",
      "938/938 [==============================] - 7s 7ms/step - loss: 0.4580 - accuracy: 0.8329 - val_loss: 0.4240 - val_accuracy: 0.8480\n",
      "Epoch 4/25\n",
      "938/938 [==============================] - 7s 7ms/step - loss: 0.4215 - accuracy: 0.8443 - val_loss: 0.4160 - val_accuracy: 0.8479\n",
      "Epoch 5/25\n",
      "938/938 [==============================] - 7s 8ms/step - loss: 0.4026 - accuracy: 0.8524 - val_loss: 0.4030 - val_accuracy: 0.8540\n",
      "Epoch 6/25\n",
      "938/938 [==============================] - 7s 8ms/step - loss: 0.3782 - accuracy: 0.8605 - val_loss: 0.4124 - val_accuracy: 0.8553\n",
      "Epoch 7/25\n",
      "938/938 [==============================] - 8s 8ms/step - loss: 0.3611 - accuracy: 0.8673 - val_loss: 0.3797 - val_accuracy: 0.8633\n",
      "Epoch 8/25\n",
      "938/938 [==============================] - 7s 8ms/step - loss: 0.3475 - accuracy: 0.8713 - val_loss: 0.3771 - val_accuracy: 0.8667\n",
      "Epoch 9/25\n",
      "938/938 [==============================] - 7s 8ms/step - loss: 0.3362 - accuracy: 0.8748 - val_loss: 0.3653 - val_accuracy: 0.8713\n",
      "Epoch 10/25\n",
      "938/938 [==============================] - 7s 8ms/step - loss: 0.3302 - accuracy: 0.8769 - val_loss: 0.3648 - val_accuracy: 0.8667\n",
      "Epoch 11/25\n",
      "938/938 [==============================] - 7s 8ms/step - loss: 0.3182 - accuracy: 0.8812 - val_loss: 0.3696 - val_accuracy: 0.8716\n",
      "Epoch 12/25\n",
      "938/938 [==============================] - 8s 8ms/step - loss: 0.3120 - accuracy: 0.8848 - val_loss: 0.3722 - val_accuracy: 0.8759\n",
      "Epoch 13/25\n",
      "938/938 [==============================] - 8s 8ms/step - loss: 0.3012 - accuracy: 0.8856 - val_loss: 0.3663 - val_accuracy: 0.8719\n",
      "Epoch 14/25\n",
      "938/938 [==============================] - 7s 8ms/step - loss: 0.2992 - accuracy: 0.8870 - val_loss: 0.3650 - val_accuracy: 0.8724\n",
      "Epoch 15/25\n",
      "938/938 [==============================] - 7s 8ms/step - loss: 0.2877 - accuracy: 0.8911 - val_loss: 0.3680 - val_accuracy: 0.8765\n",
      "Epoch 16/25\n",
      "938/938 [==============================] - 7s 8ms/step - loss: 0.2841 - accuracy: 0.8924 - val_loss: 0.3618 - val_accuracy: 0.8787\n",
      "Epoch 17/25\n",
      "938/938 [==============================] - 7s 8ms/step - loss: 0.2786 - accuracy: 0.8956 - val_loss: 0.3574 - val_accuracy: 0.8812\n",
      "Epoch 18/25\n",
      "938/938 [==============================] - 7s 8ms/step - loss: 0.2771 - accuracy: 0.8957 - val_loss: 0.3766 - val_accuracy: 0.8706\n",
      "Epoch 19/25\n",
      "938/938 [==============================] - 7s 8ms/step - loss: 0.2638 - accuracy: 0.9009 - val_loss: 0.3948 - val_accuracy: 0.8702\n",
      "Epoch 20/25\n",
      "938/938 [==============================] - 7s 8ms/step - loss: 0.2654 - accuracy: 0.9004 - val_loss: 0.3644 - val_accuracy: 0.8809\n",
      "Epoch 21/25\n",
      "938/938 [==============================] - 7s 8ms/step - loss: 0.2567 - accuracy: 0.9031 - val_loss: 0.3713 - val_accuracy: 0.8807\n",
      "Epoch 22/25\n",
      "938/938 [==============================] - 7s 8ms/step - loss: 0.2583 - accuracy: 0.9023 - val_loss: 0.3965 - val_accuracy: 0.8724\n",
      "Epoch 23/25\n",
      "938/938 [==============================] - 7s 8ms/step - loss: 0.2481 - accuracy: 0.9057 - val_loss: 0.3858 - val_accuracy: 0.8816\n",
      "Epoch 24/25\n",
      "938/938 [==============================] - 8s 8ms/step - loss: 0.2475 - accuracy: 0.9074 - val_loss: 0.3733 - val_accuracy: 0.8835\n",
      "Epoch 25/25\n",
      "938/938 [==============================] - 8s 8ms/step - loss: 0.2452 - accuracy: 0.9083 - val_loss: 0.3872 - val_accuracy: 0.8796\n"
     ]
    },
    {
     "data": {
      "text/plain": [
       "<keras.src.callbacks.History at 0x7fec97f2fbd0>"
      ]
     },
     "execution_count": 8,
     "metadata": {},
     "output_type": "execute_result"
    }
   ],
   "source": [
    "model.fit(train_images, train_labels, epochs=25, batch_size=64, validation_data=(test_images, test_labels))"
   ]
  },
  {
   "cell_type": "code",
   "execution_count": null,
   "id": "c09375aa-e173-4a17-85f4-0cd987fbcf87",
   "metadata": {},
   "outputs": [],
   "source": []
  }
 ],
 "metadata": {
  "kernelspec": {
   "display_name": "Python 3 (ipykernel)",
   "language": "python",
   "name": "python3"
  },
  "language_info": {
   "codemirror_mode": {
    "name": "ipython",
    "version": 3
   },
   "file_extension": ".py",
   "mimetype": "text/x-python",
   "name": "python",
   "nbconvert_exporter": "python",
   "pygments_lexer": "ipython3",
   "version": "3.11.8"
  }
 },
 "nbformat": 4,
 "nbformat_minor": 5
}
