{
 "cells": [
  {
   "cell_type": "code",
   "execution_count": 1,
   "id": "9f4bc19e-5b41-42ec-ada5-465159402d8e",
   "metadata": {},
   "outputs": [
    {
     "name": "stderr",
     "output_type": "stream",
     "text": [
      "2024-07-17 03:19:46.547090: I tensorflow/core/util/port.cc:113] oneDNN custom operations are on. You may see slightly different numerical results due to floating-point round-off errors from different computation orders. To turn them off, set the environment variable `TF_ENABLE_ONEDNN_OPTS=0`.\n",
      "2024-07-17 03:19:46.571482: E external/local_xla/xla/stream_executor/cuda/cuda_dnn.cc:9261] Unable to register cuDNN factory: Attempting to register factory for plugin cuDNN when one has already been registered\n",
      "2024-07-17 03:19:46.571508: E external/local_xla/xla/stream_executor/cuda/cuda_fft.cc:607] Unable to register cuFFT factory: Attempting to register factory for plugin cuFFT when one has already been registered\n",
      "2024-07-17 03:19:46.572104: E external/local_xla/xla/stream_executor/cuda/cuda_blas.cc:1515] Unable to register cuBLAS factory: Attempting to register factory for plugin cuBLAS when one has already been registered\n",
      "2024-07-17 03:19:46.576244: I tensorflow/core/platform/cpu_feature_guard.cc:182] This TensorFlow binary is optimized to use available CPU instructions in performance-critical operations.\n",
      "To enable the following instructions: AVX2 AVX512F AVX512_VNNI FMA, in other operations, rebuild TensorFlow with the appropriate compiler flags.\n",
      "2024-07-17 03:19:47.057757: W tensorflow/compiler/tf2tensorrt/utils/py_utils.cc:38] TF-TRT Warning: Could not find TensorRT\n"
     ]
    }
   ],
   "source": [
    "import cv2\n",
    "import numpy as np\n",
    "from dataset import load_hoda\n",
    "import tensorflow as tf\n",
    "from tensorflow import keras\n",
    "from keras.layers import Conv2D, Flatten, Dense, Dropout, MaxPooling2D\n",
    "from keras.models import Sequential\n",
    "import matplotlib.pyplot as plt"
   ]
  },
  {
   "cell_type": "code",
   "execution_count": 2,
   "id": "f228445f-099a-4068-b56e-a2d469a37d0d",
   "metadata": {},
   "outputs": [
    {
     "name": "stderr",
     "output_type": "stream",
     "text": [
      "2024-07-17 03:19:48.779838: E external/local_xla/xla/stream_executor/cuda/cuda_driver.cc:274] failed call to cuInit: CUDA_ERROR_NO_DEVICE: no CUDA-capable device is detected\n"
     ]
    },
    {
     "data": {
      "text/plain": [
       "[PhysicalDevice(name='/physical_device:CPU:0', device_type='CPU')]"
      ]
     },
     "execution_count": 2,
     "metadata": {},
     "output_type": "execute_result"
    }
   ],
   "source": [
    "tf.config.experimental.list_physical_devices()"
   ]
  },
  {
   "cell_type": "code",
   "execution_count": 3,
   "id": "37ead97a-e1d9-4016-b3de-96ca1763f90e",
   "metadata": {},
   "outputs": [
    {
     "name": "stdout",
     "output_type": "stream",
     "text": [
      "TensorFlow version: 2.15.1\n"
     ]
    }
   ],
   "source": [
    "print(\"TensorFlow version:\", tf.__version__)"
   ]
  },
  {
   "cell_type": "code",
   "execution_count": 4,
   "id": "935339a2-d921-42ef-89ad-383fc31c9b23",
   "metadata": {},
   "outputs": [],
   "source": [
    "x_train, y_train, x_test, y_test = load_hoda(training_sample_size=50000, test_sample_size=10000, size=30)"
   ]
  },
  {
   "cell_type": "code",
   "execution_count": 5,
   "id": "90152782-99db-4851-a254-590a9313e06f",
   "metadata": {},
   "outputs": [],
   "source": [
    "x_train = x_train.reshape((-1, 30, 30, 1)) / 255.0\n",
    "x_test = x_test.reshape((-1, 30, 30, 1)) / 255.0"
   ]
  },
  {
   "cell_type": "code",
   "execution_count": 6,
   "id": "1278c134-f02e-4c64-8a19-99f0c39ddb41",
   "metadata": {},
   "outputs": [
    {
     "name": "stdout",
     "output_type": "stream",
     "text": [
      "Model: \"sequential\"\n",
      "_________________________________________________________________\n",
      " Layer (type)                Output Shape              Param #   \n",
      "=================================================================\n",
      " conv2d (Conv2D)             (None, 30, 30, 64)        640       \n",
      "                                                                 \n",
      " max_pooling2d (MaxPooling2  (None, 15, 15, 64)        0         \n",
      " D)                                                              \n",
      "                                                                 \n",
      " conv2d_1 (Conv2D)           (None, 15, 15, 128)       73856     \n",
      "                                                                 \n",
      " max_pooling2d_1 (MaxPoolin  (None, 7, 7, 128)         0         \n",
      " g2D)                                                            \n",
      "                                                                 \n",
      " flatten (Flatten)           (None, 6272)              0         \n",
      "                                                                 \n",
      " dropout (Dropout)           (None, 6272)              0         \n",
      "                                                                 \n",
      " dense (Dense)               (None, 10)                62730     \n",
      "                                                                 \n",
      "=================================================================\n",
      "Total params: 137226 (536.04 KB)\n",
      "Trainable params: 137226 (536.04 KB)\n",
      "Non-trainable params: 0 (0.00 Byte)\n",
      "_________________________________________________________________\n"
     ]
    }
   ],
   "source": [
    "model = Sequential([\n",
    "    Conv2D(filters=64, kernel_size=(3, 3), padding='same', activation='relu', input_shape=(30, 30, 1)),\n",
    "    MaxPooling2D(),\n",
    "    Conv2D(filters=128, kernel_size=(3, 3), padding='same', activation='relu'),\n",
    "    MaxPooling2D(),\n",
    "    Flatten(),\n",
    "    Dropout(0.4),\n",
    "    Dense(units=10, activation='softmax')\n",
    "])\n",
    "\n",
    "model.summary()"
   ]
  },
  {
   "cell_type": "code",
   "execution_count": 7,
   "id": "ef57c62a-6769-4efb-9ae2-0714aab6c426",
   "metadata": {},
   "outputs": [],
   "source": [
    "model.compile(\n",
    "    loss = 'sparse_categorical_crossentropy',\n",
    "    optimizer='adam',\n",
    "    metrics=['accuracy']\n",
    ")"
   ]
  },
  {
   "cell_type": "code",
   "execution_count": 8,
   "id": "15d8a02b-a75b-497a-a154-8ca672c2fdb2",
   "metadata": {},
   "outputs": [
    {
     "name": "stdout",
     "output_type": "stream",
     "text": [
      "Epoch 1/10\n",
      "625/625 [==============================] - 18s 28ms/step - loss: 0.1423 - accuracy: 0.9582 - val_loss: 0.0527 - val_accuracy: 0.9855\n",
      "Epoch 2/10\n",
      "625/625 [==============================] - 19s 30ms/step - loss: 0.0445 - accuracy: 0.9868 - val_loss: 0.0354 - val_accuracy: 0.9907\n",
      "Epoch 3/10\n",
      "625/625 [==============================] - 19s 31ms/step - loss: 0.0308 - accuracy: 0.9912 - val_loss: 0.0295 - val_accuracy: 0.9921\n",
      "Epoch 4/10\n",
      "625/625 [==============================] - 19s 31ms/step - loss: 0.0267 - accuracy: 0.9920 - val_loss: 0.0302 - val_accuracy: 0.9911\n",
      "Epoch 5/10\n",
      "625/625 [==============================] - 19s 31ms/step - loss: 0.0203 - accuracy: 0.9938 - val_loss: 0.0308 - val_accuracy: 0.9905\n",
      "Epoch 6/10\n",
      "625/625 [==============================] - 19s 31ms/step - loss: 0.0170 - accuracy: 0.9945 - val_loss: 0.0277 - val_accuracy: 0.9923\n",
      "Epoch 7/10\n",
      "625/625 [==============================] - 20s 31ms/step - loss: 0.0146 - accuracy: 0.9955 - val_loss: 0.0275 - val_accuracy: 0.9936\n",
      "Epoch 8/10\n",
      "625/625 [==============================] - 20s 31ms/step - loss: 0.0132 - accuracy: 0.9954 - val_loss: 0.0280 - val_accuracy: 0.9939\n",
      "Epoch 9/10\n",
      "625/625 [==============================] - 20s 31ms/step - loss: 0.0099 - accuracy: 0.9967 - val_loss: 0.0236 - val_accuracy: 0.9939\n",
      "Epoch 10/10\n",
      "625/625 [==============================] - 20s 31ms/step - loss: 0.0084 - accuracy: 0.9973 - val_loss: 0.0249 - val_accuracy: 0.9935\n"
     ]
    }
   ],
   "source": [
    "with tf.device('gpu:0'):\n",
    "    model.fit(x_train, y_train, epochs=10, batch_size=64, validation_split=0.2)"
   ]
  },
  {
   "cell_type": "code",
   "execution_count": 10,
   "id": "12299dd8-bb56-4037-8d7f-d2cd78337926",
   "metadata": {},
   "outputs": [],
   "source": [
    "model.save('model.h5')"
   ]
  }
 ],
 "metadata": {
  "kernelspec": {
   "display_name": "Python 3 (ipykernel)",
   "language": "python",
   "name": "python3"
  },
  "language_info": {
   "codemirror_mode": {
    "name": "ipython",
    "version": 3
   },
   "file_extension": ".py",
   "mimetype": "text/x-python",
   "name": "python",
   "nbconvert_exporter": "python",
   "pygments_lexer": "ipython3",
   "version": "3.11.8"
  }
 },
 "nbformat": 4,
 "nbformat_minor": 5
}
